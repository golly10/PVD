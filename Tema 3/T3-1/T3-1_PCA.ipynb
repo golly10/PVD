{
 "cells": [
  {
   "cell_type": "markdown",
   "metadata": {},
   "source": [
    "# Extracción de características\n",
    "\n",
    "La primera técnica que vamos a ver para la reducción de la información que pasamos a nuestro futuro proceso de aprendizaje es la extracción de características. Se trata de generar un número menor de nuevas características a partir de las que tenemos.\n",
    "\n",
    "\n",
    "## Análisis de componentes principales\n",
    "\n",
    "Normalmente conocida por sus siglas en inglés, PCA (*Principal Component Analysis*), es probablemente la técnica de extracción de características más conocida. \n",
    "\n",
    "*PCA* trabaja sobre datos continuos. Así que debemos haber convertido previamente todas las características a valores continuos. \n",
    "\n",
    "*PCA* supone relaciones lineales entre las características por lo que puede no ser adecuada en algunos problemas sin aplicar transformaciones previas. Los algoritmos de aprendizaje basados en máquinas de vectores soporte, que se verán en otras asignaturas, hacen uso de esas transformaciones para funcionar eficazmente en muchos conjuntos de datos.\n"
   ]
  },
  {
   "cell_type": "code",
   "execution_count": 1,
   "metadata": {},
   "outputs": [],
   "source": [
    "import numpy as np\n",
    "import pandas as pd"
   ]
  },
  {
   "cell_type": "markdown",
   "metadata": {},
   "source": [
    "Vamos a trabajar con un conjunto de datos pequeño inventado para ver los valores en el proceso. Por conveniencia vamos a separarlo en dos partes: X representa los vectores de características de las variables independientes e Y que representa la variable dependiente. \n",
    "\n",
    "*PCA* trabaja sólo sobre las características, ignorando la variable dependiente. Por tanto, es lo que llamaremos una técnica no supervisada (se verá en posteriores asignaturas). Lo que estamos aplicando es una especie de técnica de compresión (con perdida) de los datos."
   ]
  },
  {
   "cell_type": "code",
   "execution_count": 2,
   "metadata": {},
   "outputs": [],
   "source": [
    "tabla = pd.DataFrame(\n",
    "    {'x1' : [0.1, 0.3, 0.5, 0.8, 1.9],\n",
    "     'x2' : [0.0, 0.5, 1.0, 1.5, 2.0],\n",
    "     'y'  : ['A', 'A', 'B', 'B', 'B']\n",
    "})\n",
    "x = np.array( tabla.loc[:,['x1', 'x2']] )\n",
    "y = np.array( tabla.loc[:,['y']] )"
   ]
  },
  {
   "cell_type": "markdown",
   "metadata": {},
   "source": [
    "A continuación lo representamos gráficamente. Observamos que hay bastante relación entre ambas variables (a menor x1, menor $x_2$ y viceversa). Esta es la relación que queremos capturar para reducir a menos características. \n",
    "\n",
    "Hemos representado las clases de la variable dependiente (A y B) como referencia de ejemplo de lo que un futuro algoritimo de aprendizaje tendrá que aprender. De esta forma vemos que la clase de objetos con valores pequeños de $x_1$ y $x_2$ es A y la de los que tienen valores grandes B. *PCA* ignora esto."
   ]
  },
  {
   "cell_type": "code",
   "execution_count": 3,
   "metadata": {},
   "outputs": [
    {
     "data": {
      "image/png": "[encoded data removed]",
      "text/plain": [
       "<Figure size 360x360 with 1 Axes>"
      ]
     },
     "metadata": {
      "needs_background": "light"
     },
     "output_type": "display_data"
    }
   ],
   "source": [
    "from matplotlib import pyplot\n",
    "fig = pyplot.figure(figsize = (5,5))\n",
    "ax = fig.add_subplot(1,1,1) \n",
    "ax.set_xlabel('x1', fontsize = 15)\n",
    "ax.set_ylabel('x2', fontsize = 15)\n",
    "ax.set_title('original', fontsize = 20)\n",
    "objetivos = ['A', 'B']\n",
    "colores = ['r', 'b']\n",
    "for obj in objetivos:\n",
    "    seleccionados = np.array(y == obj)[:,0]\n",
    "    ax.scatter(x[seleccionados, 0], #x1\n",
    "               x[seleccionados, 1], #x2\n",
    "               s=70)\n",
    "ax.legend(objetivos)\n",
    "ax.grid()"
   ]
  },
  {
   "cell_type": "markdown",
   "metadata": {},
   "source": [
    "El análisis de componentes principales se hace sobre las matrices de covarianza. Por esta razón, si una característica tuviese valores en el rango de los miles se consideraría mucho mas importante que una variable cuyos valores están en el rango de las decenas. Normalmente no deseamos esto. Para hacer que *PCA* sea independiente de las unidades en que se midan las propiedades (por ejemplo, metros o kilometros) y, en general, independiente del rango en el que las variables tomen valores, lo habitual es normalizar los valores (vimos como hacerlo en el tema 2.1):"
   ]
  },
  {
   "cell_type": "code",
   "execution_count": 4,
   "metadata": {},
   "outputs": [
    {
     "data": {
      "text/plain": [
       "array([[-0.97835132, -1.41421356],\n",
       "       [-0.66275412, -0.70710678],\n",
       "       [-0.34715692,  0.        ],\n",
       "       [ 0.12623888,  0.70710678],\n",
       "       [ 1.86202349,  1.41421356]])"
      ]
     },
     "execution_count": 4,
     "metadata": {},
     "output_type": "execute_result"
    }
   ],
   "source": [
    "from sklearn import preprocessing\n",
    "x = preprocessing.StandardScaler().fit_transform(x)\n",
    "x"
   ]
  },
  {
   "cell_type": "markdown",
   "metadata": {},
   "source": [
    "La forma es la misma pero cambiando los valores de las variables. Veamos la gráfica."
   ]
  },
  {
   "cell_type": "code",
   "execution_count": 5,
   "metadata": {},
   "outputs": [
    {
     "data": {
      "image/png": "[encoded data removed]",
      "text/plain": [
       "<Figure size 360x360 with 1 Axes>"
      ]
     },
     "metadata": {
      "needs_background": "light"
     },
     "output_type": "display_data"
    }
   ],
   "source": [
    "fig = pyplot.figure(figsize = (5,5))\n",
    "ax = fig.add_subplot(1,1,1) \n",
    "ax.set_xlabel('x1', fontsize = 15)\n",
    "ax.set_ylabel('x2', fontsize = 15)\n",
    "ax.set_title('normalizado', fontsize = 20)\n",
    "objetivos = ['A', 'B']\n",
    "colores = ['r', 'b']\n",
    "for obj in objetivos:\n",
    "    seleccionados = np.array(y == obj)[:,0]\n",
    "    ax.scatter(x[seleccionados, 0], #x1\n",
    "               x[seleccionados, 1], #x2\n",
    "               s=70)\n",
    "ax.legend(objetivos)\n",
    "ax.grid()"
   ]
  },
  {
   "cell_type": "markdown",
   "metadata": {},
   "source": [
    "Podemos aplicar el análisis de componentes principales (*PCA*) usando la clase `PCA` del módulo `decomposition` de sklearn."
   ]
  },
  {
   "cell_type": "code",
   "execution_count": 6,
   "metadata": {},
   "outputs": [
    {
     "data": {
      "text/plain": [
       "PCA(n_components=1)"
      ]
     },
     "execution_count": 6,
     "metadata": {},
     "output_type": "execute_result"
    }
   ],
   "source": [
    "from sklearn import decomposition\n",
    "pca = decomposition.PCA(n_components=1)\n",
    "pca.fit(x)"
   ]
  },
  {
   "cell_type": "markdown",
   "metadata": {},
   "source": [
    "Podemos ver los componentes calculados en el siguiente atributo del objeto `pca` creado. En este caso sólo hay un componente (porque pusimos `n_components=1`), que tiene los valores de los pesos asignados a las dos variables originales."
   ]
  },
  {
   "cell_type": "code",
   "execution_count": 7,
   "metadata": {},
   "outputs": [
    {
     "data": {
      "text/plain": [
       "array([[0.70710678, 0.70710678]])"
      ]
     },
     "execution_count": 7,
     "metadata": {},
     "output_type": "execute_result"
    }
   ],
   "source": [
    "pca.components_"
   ]
  },
  {
   "cell_type": "markdown",
   "metadata": {},
   "source": [
    "De esta forma, podemos transformar los datos originales, para que tengan una única variable que retenga gran parte de la información de las dos variables, multiplicando la matriz de datos original por los componentes:"
   ]
  },
  {
   "cell_type": "code",
   "execution_count": 8,
   "metadata": {},
   "outputs": [
    {
     "data": {
      "text/plain": [
       "array([[-1.69179886],\n",
       "       [-0.96863793],\n",
       "       [-0.24547701],\n",
       "       [ 0.58926437],\n",
       "       [ 2.31664944]])"
      ]
     },
     "execution_count": 8,
     "metadata": {},
     "output_type": "execute_result"
    }
   ],
   "source": [
    "x @ pca.components_.T"
   ]
  },
  {
   "cell_type": "markdown",
   "metadata": {},
   "source": [
    "Podemos ver el ratio de la varianza que se conserva de los datos originales en el siguiente atributo:"
   ]
  },
  {
   "cell_type": "code",
   "execution_count": 9,
   "metadata": {},
   "outputs": [
    {
     "data": {
      "text/plain": [
       "array([0.95747989])"
      ]
     },
     "execution_count": 9,
     "metadata": {},
     "output_type": "execute_result"
    }
   ],
   "source": [
    "pca.explained_variance_ratio_\n"
   ]
  },
  {
   "cell_type": "markdown",
   "metadata": {},
   "source": [
    "En vez de hacer el `.fit(x)` y luego multiplicar nosotros por los pesos, se puede hacer directamente llamando a `fit_transform`. (Antes lo hemos hecho por pasos para ilustrar el proceso y comprobar ahora que el resultado es el mismo.)"
   ]
  },
  {
   "cell_type": "code",
   "execution_count": 10,
   "metadata": {},
   "outputs": [
    {
     "data": {
      "text/plain": [
       "array([[-1.69179886],\n",
       "       [-0.96863793],\n",
       "       [-0.24547701],\n",
       "       [ 0.58926437],\n",
       "       [ 2.31664944]])"
      ]
     },
     "execution_count": 10,
     "metadata": {},
     "output_type": "execute_result"
    }
   ],
   "source": [
    "xp = pca.fit_transform(x)\n",
    "xp"
   ]
  },
  {
   "cell_type": "markdown",
   "metadata": {},
   "source": [
    "De esta forma, hemos reducido la dimensión de los datos de dos a una sola variable. Podemos ver en la representación de los datos siguiente, que seguimos pudiendo diferenciar fácilmente los objetos de clase A frente a los de clase B usando la nueva variable `xp`."
   ]
  },
  {
   "cell_type": "code",
   "execution_count": 11,
   "metadata": {},
   "outputs": [
    {
     "data": {
      "image/png": "[encoded data removed]",
      "text/plain": [
       "<Figure size 576x144 with 1 Axes>"
      ]
     },
     "metadata": {
      "needs_background": "light"
     },
     "output_type": "display_data"
    }
   ],
   "source": [
    "fig = pyplot.figure(figsize = (8,2))\n",
    "ax = fig.add_subplot(1,1,1) \n",
    "ax.set_xlabel('xp', fontsize = 15)\n",
    "ax.set_ylabel('0', fontsize = 15)\n",
    "ax.set_title('original', fontsize = 20)\n",
    "objetivos = ['A', 'B']\n",
    "for obj in objetivos:\n",
    "    seleccionados = np.array(y == obj)[:,0]\n",
    "    ax.scatter(xp[seleccionados, 0],\n",
    "               np.zeros([sum(seleccionados)]),\n",
    "               s=70)\n",
    "ax.legend(objetivos)\n",
    "ax.grid()"
   ]
  },
  {
   "cell_type": "markdown",
   "metadata": {},
   "source": [
    "Podemos aplicar esto sobre datos con más dimensiones para ayudarnos a visualizarlo [1]. Por ejemplo, es dificil representar un problema con cuatro dimensiones pero podemos ver como queda si lo reducimos a dos."
   ]
  },
  {
   "cell_type": "code",
   "execution_count": 12,
   "metadata": {},
   "outputs": [
    {
     "data": {
      "text/html": [
       "<div>\n",
       "<style scoped>\n",
       "    .dataframe tbody tr th:only-of-type {\n",
       "        vertical-align: middle;\n",
       "    }\n",
       "\n",
       "    .dataframe tbody tr th {\n",
       "        vertical-align: top;\n",
       "    }\n",
       "\n",
       "    .dataframe thead th {\n",
       "        text-align: right;\n",
       "    }\n",
       "</style>\n",
       "<table border=\"1\" class=\"dataframe\">\n",
       "  <thead>\n",
       "    <tr style=\"text-align: right;\">\n",
       "      <th></th>\n",
       "      <th>sepal length</th>\n",
       "      <th>sepal width</th>\n",
       "      <th>petal length</th>\n",
       "      <th>petal width</th>\n",
       "      <th>target</th>\n",
       "    </tr>\n",
       "  </thead>\n",
       "  <tbody>\n",
       "    <tr>\n",
       "      <th>0</th>\n",
       "      <td>5.1</td>\n",
       "      <td>3.5</td>\n",
       "      <td>1.4</td>\n",
       "      <td>0.2</td>\n",
       "      <td>Iris-setosa</td>\n",
       "    </tr>\n",
       "    <tr>\n",
       "      <th>1</th>\n",
       "      <td>4.9</td>\n",
       "      <td>3.0</td>\n",
       "      <td>1.4</td>\n",
       "      <td>0.2</td>\n",
       "      <td>Iris-setosa</td>\n",
       "    </tr>\n",
       "    <tr>\n",
       "      <th>2</th>\n",
       "      <td>4.7</td>\n",
       "      <td>3.2</td>\n",
       "      <td>1.3</td>\n",
       "      <td>0.2</td>\n",
       "      <td>Iris-setosa</td>\n",
       "    </tr>\n",
       "    <tr>\n",
       "      <th>3</th>\n",
       "      <td>4.6</td>\n",
       "      <td>3.1</td>\n",
       "      <td>1.5</td>\n",
       "      <td>0.2</td>\n",
       "      <td>Iris-setosa</td>\n",
       "    </tr>\n",
       "    <tr>\n",
       "      <th>4</th>\n",
       "      <td>5.0</td>\n",
       "      <td>3.6</td>\n",
       "      <td>1.4</td>\n",
       "      <td>0.2</td>\n",
       "      <td>Iris-setosa</td>\n",
       "    </tr>\n",
       "    <tr>\n",
       "      <th>...</th>\n",
       "      <td>...</td>\n",
       "      <td>...</td>\n",
       "      <td>...</td>\n",
       "      <td>...</td>\n",
       "      <td>...</td>\n",
       "    </tr>\n",
       "    <tr>\n",
       "      <th>145</th>\n",
       "      <td>6.7</td>\n",
       "      <td>3.0</td>\n",
       "      <td>5.2</td>\n",
       "      <td>2.3</td>\n",
       "      <td>Iris-virginica</td>\n",
       "    </tr>\n",
       "    <tr>\n",
       "      <th>146</th>\n",
       "      <td>6.3</td>\n",
       "      <td>2.5</td>\n",
       "      <td>5.0</td>\n",
       "      <td>1.9</td>\n",
       "      <td>Iris-virginica</td>\n",
       "    </tr>\n",
       "    <tr>\n",
       "      <th>147</th>\n",
       "      <td>6.5</td>\n",
       "      <td>3.0</td>\n",
       "      <td>5.2</td>\n",
       "      <td>2.0</td>\n",
       "      <td>Iris-virginica</td>\n",
       "    </tr>\n",
       "    <tr>\n",
       "      <th>148</th>\n",
       "      <td>6.2</td>\n",
       "      <td>3.4</td>\n",
       "      <td>5.4</td>\n",
       "      <td>2.3</td>\n",
       "      <td>Iris-virginica</td>\n",
       "    </tr>\n",
       "    <tr>\n",
       "      <th>149</th>\n",
       "      <td>5.9</td>\n",
       "      <td>3.0</td>\n",
       "      <td>5.1</td>\n",
       "      <td>1.8</td>\n",
       "      <td>Iris-virginica</td>\n",
       "    </tr>\n",
       "  </tbody>\n",
       "</table>\n",
       "<p>150 rows × 5 columns</p>\n",
       "</div>"
      ],
      "text/plain": [
       "     sepal length  sepal width  petal length  petal width          target\n",
       "0             5.1          3.5           1.4          0.2     Iris-setosa\n",
       "1             4.9          3.0           1.4          0.2     Iris-setosa\n",
       "2             4.7          3.2           1.3          0.2     Iris-setosa\n",
       "3             4.6          3.1           1.5          0.2     Iris-setosa\n",
       "4             5.0          3.6           1.4          0.2     Iris-setosa\n",
       "..            ...          ...           ...          ...             ...\n",
       "145           6.7          3.0           5.2          2.3  Iris-virginica\n",
       "146           6.3          2.5           5.0          1.9  Iris-virginica\n",
       "147           6.5          3.0           5.2          2.0  Iris-virginica\n",
       "148           6.2          3.4           5.4          2.3  Iris-virginica\n",
       "149           5.9          3.0           5.1          1.8  Iris-virginica\n",
       "\n",
       "[150 rows x 5 columns]"
      ]
     },
     "execution_count": 12,
     "metadata": {},
     "output_type": "execute_result"
    }
   ],
   "source": [
    "iris = pd.read_csv(\"https://archive.ics.uci.edu/ml/machine-learning-databases/iris/iris.data\", \n",
    "                   names=['sepal length','sepal width','petal length','petal width','target'])\n",
    "iris"
   ]
  },
  {
   "cell_type": "code",
   "execution_count": 13,
   "metadata": {},
   "outputs": [
    {
     "ename": "NameError",
     "evalue": "name 'df' is not defined",
     "output_type": "error",
     "traceback": [
      "\u001b[0;31m---------------------------------------------------------------------------\u001b[0m",
      "\u001b[0;31mNameError\u001b[0m                                 Traceback (most recent call last)",
      "\u001b[0;32m/var/folders/0n/nxywfqj174j8jrc5w4btcbb40000gn/T/ipykernel_11377/545735402.py\u001b[0m in \u001b[0;36m<module>\u001b[0;34m\u001b[0m\n\u001b[1;32m      1\u001b[0m \u001b[0;31m# Convertir a ndarray y normalizar\u001b[0m\u001b[0;34m\u001b[0m\u001b[0;34m\u001b[0m\u001b[0;34m\u001b[0m\u001b[0m\n\u001b[1;32m      2\u001b[0m \u001b[0mcaracteristicas\u001b[0m \u001b[0;34m=\u001b[0m \u001b[0;34m[\u001b[0m\u001b[0;34m'sepal length'\u001b[0m\u001b[0;34m,\u001b[0m \u001b[0;34m'sepal width'\u001b[0m\u001b[0;34m,\u001b[0m \u001b[0;34m'petal length'\u001b[0m\u001b[0;34m,\u001b[0m \u001b[0;34m'petal width'\u001b[0m\u001b[0;34m]\u001b[0m\u001b[0;34m\u001b[0m\u001b[0;34m\u001b[0m\u001b[0m\n\u001b[0;32m----> 3\u001b[0;31m \u001b[0mx\u001b[0m \u001b[0;34m=\u001b[0m \u001b[0mdf\u001b[0m\u001b[0;34m.\u001b[0m\u001b[0mloc\u001b[0m\u001b[0;34m[\u001b[0m\u001b[0;34m:\u001b[0m\u001b[0;34m,\u001b[0m \u001b[0mcaracteristicas\u001b[0m\u001b[0;34m]\u001b[0m\u001b[0;34m.\u001b[0m\u001b[0mvalues\u001b[0m\u001b[0;34m\u001b[0m\u001b[0;34m\u001b[0m\u001b[0m\n\u001b[0m\u001b[1;32m      4\u001b[0m \u001b[0my\u001b[0m \u001b[0;34m=\u001b[0m \u001b[0mdf\u001b[0m\u001b[0;34m.\u001b[0m\u001b[0mloc\u001b[0m\u001b[0;34m[\u001b[0m\u001b[0;34m:\u001b[0m\u001b[0;34m,\u001b[0m\u001b[0;34m[\u001b[0m\u001b[0;34m'target'\u001b[0m\u001b[0;34m]\u001b[0m\u001b[0;34m]\u001b[0m\u001b[0;34m.\u001b[0m\u001b[0mvalues\u001b[0m\u001b[0;34m\u001b[0m\u001b[0;34m\u001b[0m\u001b[0m\n\u001b[1;32m      5\u001b[0m \u001b[0mx\u001b[0m \u001b[0;34m=\u001b[0m \u001b[0mpreprocessing\u001b[0m\u001b[0;34m.\u001b[0m\u001b[0mStandardScaler\u001b[0m\u001b[0;34m(\u001b[0m\u001b[0;34m)\u001b[0m\u001b[0;34m.\u001b[0m\u001b[0mfit_transform\u001b[0m\u001b[0;34m(\u001b[0m\u001b[0mx\u001b[0m\u001b[0;34m)\u001b[0m\u001b[0;34m\u001b[0m\u001b[0;34m\u001b[0m\u001b[0m\n",
      "\u001b[0;31mNameError\u001b[0m: name 'df' is not defined"
     ]
    }
   ],
   "source": [
    "# Convertir a ndarray y normalizar\n",
    "caracteristicas = ['sepal length', 'sepal width', 'petal length', 'petal width']\n",
    "x = df.loc[:, caracteristicas].values\n",
    "y = df.loc[:,['target']].values\n",
    "x = preprocessing.StandardScaler().fit_transform(x)\n",
    "\n",
    "# Componentes principales\n",
    "pca = decomposition.PCA(n_components=2)\n",
    "xpca = pca.fit_transform(x)\n",
    "\n",
    "# Gráfica\n",
    "fig = pyplot.figure(figsize = (10,10))\n",
    "ax = fig.add_subplot(1,1,1) \n",
    "ax.set_xlabel('cp1', fontsize = 15)\n",
    "ax.set_ylabel('cp2', fontsize = 15)\n",
    "ax.set_title('iris', fontsize = 20)\n",
    "objetivos = ['Iris-setosa', 'Iris-versicolor', 'Iris-virginica']\n",
    "colores = ['r', 'g', 'b']\n",
    "for obj, color in zip(objetivos, colores):\n",
    "    seleccionados = np.array(y == obj)[:,0]\n",
    "    ax.scatter(xpca[seleccionados, 0], xpca[seleccionados, 1], s=40)\n",
    "ax.legend(objetivos, loc=\"lower right\")\n",
    "ax.grid()"
   ]
  },
  {
   "cell_type": "markdown",
   "metadata": {},
   "source": [
    "Podemos ver como con dos componentes una de las clases se puede diferenciar muy bien, mientras que las otras dos no tanto. Podemos ver que la varianza explicada entre los dos componentes es muy alta (casi el 96%):"
   ]
  },
  {
   "cell_type": "code",
   "execution_count": null,
   "metadata": {},
   "outputs": [],
   "source": [
    "pca.explained_variance_ratio_"
   ]
  },
  {
   "cell_type": "markdown",
   "metadata": {},
   "source": [
    "Podría ser que esa poca información perdida haga funcionar algo peor a un algoritmo de aprendizaje y, con problemas tan pequeños, quizá no merezca la pena esta reducción. Sin embargo, es muy útil en problemas más grandes. En la referencia [1], hay también un ejemplo de como se puede aplicar en el reconocimiento de digitos (un problema con 784 características) y en la referencia [2] de como puede resultar útil aplicado antes del aprendizaje con redes neuronales profundas."
   ]
  },
  {
   "cell_type": "markdown",
   "metadata": {},
   "source": [
    "**Ejercicio**: Aplica *PCA* a los datos sobre vino que vimos en el tema 1.3."
   ]
  },
  {
   "cell_type": "markdown",
   "metadata": {},
   "source": [
    "[1] PCA using Python (scikit-learn) https://towardsdatascience.com/pca-using-python-scikit-learn-e653f8989e60\n",
    "\n",
    "[2] Principal Component Analysis (PCA) in Python https://www.datacamp.com/community/tutorials/principal-component-analysis-in-python"
   ]
  }
 ],
 "metadata": {
  "kernelspec": {
   "display_name": "Python 3",
   "language": "python",
   "name": "python3"
  },
  "language_info": {
   "codemirror_mode": {
    "name": "ipython",
    "version": 3
   },
   "file_extension": ".py",
   "mimetype": "text/x-python",
   "name": "python",
   "nbconvert_exporter": "python",
   "pygments_lexer": "ipython3",
   "version": "3.9.5"
  }
 },
 "nbformat": 4,
 "nbformat_minor": 2
}
