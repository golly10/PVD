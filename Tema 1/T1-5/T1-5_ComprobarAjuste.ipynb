{
 "cells": [
  {
   "cell_type": "markdown",
   "metadata": {},
   "source": [
    "# Comprobar la distribución de una característica\n",
    "A veces es bueno conocer qué distribución siguen los valores de una característica. Nos puede ayudar para saber qué modelos son más adecuados o para aplicar transformaciones que faciliten el aprendizaje.\n",
    "\n",
    "Como primer ejemplo vamos a ver si las características del conjunto de datos 'delta_elevators' del repositorio de OpenML se ajustan a [distribuciones normales](https://es.wikipedia.org/wiki/Distribuci%C3%B3n_normal).\n",
    "\n",
    "![Gráfica de varias distribuciones normales](https://upload.wikimedia.org/wikipedia/commons/thumb/1/1b/Normal_distribution_pdf.png/325px-Normal_distribution_pdf.png)"
   ]
  },
  {
   "cell_type": "code",
   "execution_count": 5,
   "metadata": {},
   "outputs": [],
   "source": [
    "import pandas as pd\n",
    "import numpy as np\n",
    "from sklearn import datasets"
   ]
  },
  {
   "cell_type": "code",
   "execution_count": 6,
   "metadata": {},
   "outputs": [
    {
     "data": {
      "text/html": [
       "<div>\n",
       "<style scoped>\n",
       "    .dataframe tbody tr th:only-of-type {\n",
       "        vertical-align: middle;\n",
       "    }\n",
       "\n",
       "    .dataframe tbody tr th {\n",
       "        vertical-align: top;\n",
       "    }\n",
       "\n",
       "    .dataframe thead th {\n",
       "        text-align: right;\n",
       "    }\n",
       "</style>\n",
       "<table border=\"1\" class=\"dataframe\">\n",
       "  <thead>\n",
       "    <tr style=\"text-align: right;\">\n",
       "      <th></th>\n",
       "      <th>climbRate</th>\n",
       "      <th>Altitude</th>\n",
       "      <th>RollRate</th>\n",
       "      <th>curRoll</th>\n",
       "      <th>diffClb</th>\n",
       "      <th>diffDiffClb</th>\n",
       "      <th>Se</th>\n",
       "    </tr>\n",
       "  </thead>\n",
       "  <tbody>\n",
       "    <tr>\n",
       "      <th>0</th>\n",
       "      <td>2.0</td>\n",
       "      <td>-50.0</td>\n",
       "      <td>-0.0048</td>\n",
       "      <td>-0.001</td>\n",
       "      <td>0.2</td>\n",
       "      <td>0.00</td>\n",
       "      <td>-0.001</td>\n",
       "    </tr>\n",
       "    <tr>\n",
       "      <th>1</th>\n",
       "      <td>6.5</td>\n",
       "      <td>-40.0</td>\n",
       "      <td>-0.0010</td>\n",
       "      <td>-0.009</td>\n",
       "      <td>0.2</td>\n",
       "      <td>0.00</td>\n",
       "      <td>0.003</td>\n",
       "    </tr>\n",
       "    <tr>\n",
       "      <th>2</th>\n",
       "      <td>-5.9</td>\n",
       "      <td>-10.0</td>\n",
       "      <td>-0.0033</td>\n",
       "      <td>-0.004</td>\n",
       "      <td>-0.1</td>\n",
       "      <td>0.00</td>\n",
       "      <td>-0.001</td>\n",
       "    </tr>\n",
       "    <tr>\n",
       "      <th>3</th>\n",
       "      <td>-6.2</td>\n",
       "      <td>-30.0</td>\n",
       "      <td>-0.0022</td>\n",
       "      <td>-0.011</td>\n",
       "      <td>0.1</td>\n",
       "      <td>0.00</td>\n",
       "      <td>-0.002</td>\n",
       "    </tr>\n",
       "    <tr>\n",
       "      <th>4</th>\n",
       "      <td>-0.2</td>\n",
       "      <td>-40.0</td>\n",
       "      <td>0.0059</td>\n",
       "      <td>-0.005</td>\n",
       "      <td>0.1</td>\n",
       "      <td>0.00</td>\n",
       "      <td>0.001</td>\n",
       "    </tr>\n",
       "    <tr>\n",
       "      <th>...</th>\n",
       "      <td>...</td>\n",
       "      <td>...</td>\n",
       "      <td>...</td>\n",
       "      <td>...</td>\n",
       "      <td>...</td>\n",
       "      <td>...</td>\n",
       "      <td>...</td>\n",
       "    </tr>\n",
       "    <tr>\n",
       "      <th>9512</th>\n",
       "      <td>5.0</td>\n",
       "      <td>-30.0</td>\n",
       "      <td>0.0013</td>\n",
       "      <td>-0.004</td>\n",
       "      <td>0.2</td>\n",
       "      <td>0.00</td>\n",
       "      <td>0.004</td>\n",
       "    </tr>\n",
       "    <tr>\n",
       "      <th>9513</th>\n",
       "      <td>1.4</td>\n",
       "      <td>0.0</td>\n",
       "      <td>0.0024</td>\n",
       "      <td>0.019</td>\n",
       "      <td>-0.2</td>\n",
       "      <td>-0.01</td>\n",
       "      <td>-0.001</td>\n",
       "    </tr>\n",
       "    <tr>\n",
       "      <th>9514</th>\n",
       "      <td>-3.5</td>\n",
       "      <td>-10.0</td>\n",
       "      <td>-0.0082</td>\n",
       "      <td>0.004</td>\n",
       "      <td>-0.1</td>\n",
       "      <td>0.00</td>\n",
       "      <td>-0.003</td>\n",
       "    </tr>\n",
       "    <tr>\n",
       "      <th>9515</th>\n",
       "      <td>-2.4</td>\n",
       "      <td>-10.0</td>\n",
       "      <td>-0.0065</td>\n",
       "      <td>-0.012</td>\n",
       "      <td>0.2</td>\n",
       "      <td>-0.02</td>\n",
       "      <td>-0.001</td>\n",
       "    </tr>\n",
       "    <tr>\n",
       "      <th>9516</th>\n",
       "      <td>4.7</td>\n",
       "      <td>-10.0</td>\n",
       "      <td>0.0018</td>\n",
       "      <td>-0.020</td>\n",
       "      <td>0.3</td>\n",
       "      <td>0.00</td>\n",
       "      <td>0.001</td>\n",
       "    </tr>\n",
       "  </tbody>\n",
       "</table>\n",
       "<p>9517 rows × 7 columns</p>\n",
       "</div>"
      ],
      "text/plain": [
       "      climbRate  Altitude  RollRate  curRoll  diffClb  diffDiffClb     Se\n",
       "0           2.0     -50.0   -0.0048   -0.001      0.2         0.00 -0.001\n",
       "1           6.5     -40.0   -0.0010   -0.009      0.2         0.00  0.003\n",
       "2          -5.9     -10.0   -0.0033   -0.004     -0.1         0.00 -0.001\n",
       "3          -6.2     -30.0   -0.0022   -0.011      0.1         0.00 -0.002\n",
       "4          -0.2     -40.0    0.0059   -0.005      0.1         0.00  0.001\n",
       "...         ...       ...       ...      ...      ...          ...    ...\n",
       "9512        5.0     -30.0    0.0013   -0.004      0.2         0.00  0.004\n",
       "9513        1.4       0.0    0.0024    0.019     -0.2        -0.01 -0.001\n",
       "9514       -3.5     -10.0   -0.0082    0.004     -0.1         0.00 -0.003\n",
       "9515       -2.4     -10.0   -0.0065   -0.012      0.2        -0.02 -0.001\n",
       "9516        4.7     -10.0    0.0018   -0.020      0.3         0.00  0.001\n",
       "\n",
       "[9517 rows x 7 columns]"
      ]
     },
     "execution_count": 6,
     "metadata": {},
     "output_type": "execute_result"
    }
   ],
   "source": [
    "dataset = datasets.fetch_openml(name='delta_elevators', version=1, as_frame=True)\n",
    "tabla = dataset.frame\n",
    "tabla"
   ]
  },
  {
   "cell_type": "markdown",
   "metadata": {},
   "source": [
    "Una visión rápida de los histogramas de las características de la tabla nos dará una primera impresión de como están distribuidos los datos."
   ]
  },
  {
   "cell_type": "code",
   "execution_count": 7,
   "metadata": {},
   "outputs": [
    {
     "data": {
      "image/png": "[encoded data removed]",
      "text/plain": [
       "<Figure size 432x288 with 9 Axes>"
      ]
     },
     "metadata": {
      "needs_background": "light"
     },
     "output_type": "display_data"
    }
   ],
   "source": [
    "import matplotlib.pyplot as plt\n",
    "tabla.hist(bins=50)\n",
    "plt.show()"
   ]
  },
  {
   "cell_type": "markdown",
   "metadata": {},
   "source": [
    "En este conjunto de datos, casi todas las características parecen asemejarse algo a la distribución normal pero hay algunas que son claramente discretas (tienen huecos sin valores) y otras con cosas que no parecen ajustarse a la curva Gausiana (doble pico, asimetría). Podemos hacer un test estadístico para ver cuales son significativamente diferentes de la normal o si esas anormalidades que vemos pueden ser causa de la aleatoriedad.\n",
    "\n",
    "En este test estadístico la hipotesis nula $H_0$ es que la distribución sea una normal. Por tanto, si sale un valor de p-value pequeño, podemos descartar que sea una Normal pues sólo hay esa p-value probabilidad de descartarla por error. Sin embargo, si no es así, no sabemos la probabilidad de que realmente los datos se hayan generado a partir de un proceso con una distribución Normal."
   ]
  },
  {
   "cell_type": "code",
   "execution_count": 8,
   "metadata": {},
   "outputs": [
    {
     "name": "stdout",
     "output_type": "stream",
     "text": [
      "  climbRate stat=271.687, p=0.000 -> muy probablemente no Normal\n",
      "   Altitude stat= 82.602, p=0.000 -> muy probablemente no Normal\n",
      "   RollRate stat=121.291, p=0.000 -> muy probablemente no Normal\n",
      "    curRoll stat=  1.793, p=0.408 -> quizá Normal\n",
      "    diffClb stat= 30.876, p=0.000 -> muy probablemente no Normal\n",
      "diffDiffClb stat=890.530, p=0.000 -> muy probablemente no Normal\n",
      "         Se stat=158.118, p=0.000 -> muy probablemente no Normal\n"
     ]
    }
   ],
   "source": [
    "from scipy.stats import normaltest\n",
    "\n",
    "for columna in tabla:\n",
    "    stat, p = normaltest(tabla[columna])\n",
    "    print('{col:>11} stat={stat:7.3f}, p={p:.3f}'.format(stat=stat, p=p, col=columna), end='')\n",
    "    if p > 0.01:\n",
    "        print(' -> quizá Normal')\n",
    "    else:\n",
    "        print(' -> muy probablemente no Normal')\n"
   ]
  },
  {
   "cell_type": "markdown",
   "metadata": {},
   "source": [
    "En este caso, de todas las características, la única que podría estar distribuida con una distribución Normal es 'curRoll'. Las demás queda descartado que puedan considerarse valores normalmente distribuidos."
   ]
  },
  {
   "cell_type": "markdown",
   "metadata": {},
   "source": [
    "**Ejercicio**: Escoge otro conjunto de datos de [OpenML](https://www.openml.org/search?type=data) que tenga características con números reales y analiza la distribución de sus características."
   ]
  },
  {
   "cell_type": "markdown",
   "metadata": {},
   "source": [
    "Referencias:\n",
    "https://machinelearningmastery.com/statistical-hypothesis-tests-in-python-cheat-sheet/"
   ]
  }
 ],
 "metadata": {
  "kernelspec": {
   "display_name": "Python 3",
   "language": "python",
   "name": "python3"
  },
  "language_info": {
   "codemirror_mode": {
    "name": "ipython",
    "version": 3
   },
   "file_extension": ".py",
   "mimetype": "text/x-python",
   "name": "python",
   "nbconvert_exporter": "python",
   "pygments_lexer": "ipython3",
   "version": "3.9.5"
  }
 },
 "nbformat": 4,
 "nbformat_minor": 2
}
