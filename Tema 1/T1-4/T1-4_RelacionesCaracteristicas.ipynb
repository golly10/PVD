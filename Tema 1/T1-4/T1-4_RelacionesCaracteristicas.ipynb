{
 "cells": [
  {
   "cell_type": "markdown",
   "metadata": {},
   "source": [
    "# Relaciones entre características\n",
    "Puede ser interesante conocer las relaciones entre las características de nuestros datos.\n",
    "\n",
    "## Relaciones entre variables numéricas\n",
    "Vamos a ver un ejemplo sobre un problema de regresión con 5 variables."
   ]
  },
  {
   "cell_type": "code",
   "execution_count": 14,
   "metadata": {},
   "outputs": [],
   "source": [
    "import pandas as pd\n",
    "import numpy as np\n",
    "from sklearn import datasets"
   ]
  },
  {
   "cell_type": "code",
   "execution_count": 15,
   "metadata": {
    "scrolled": true
   },
   "outputs": [
    {
     "data": {
      "text/html": [
       "<div>\n",
       "<style scoped>\n",
       "    .dataframe tbody tr th:only-of-type {\n",
       "        vertical-align: middle;\n",
       "    }\n",
       "\n",
       "    .dataframe tbody tr th {\n",
       "        vertical-align: top;\n",
       "    }\n",
       "\n",
       "    .dataframe thead th {\n",
       "        text-align: right;\n",
       "    }\n",
       "</style>\n",
       "<table border=\"1\" class=\"dataframe\">\n",
       "  <thead>\n",
       "    <tr style=\"text-align: right;\">\n",
       "      <th></th>\n",
       "      <th>rhumidity</th>\n",
       "      <th>temperature</th>\n",
       "      <th>windspeed</th>\n",
       "      <th>solarirradiance</th>\n",
       "      <th>pvoutput</th>\n",
       "    </tr>\n",
       "  </thead>\n",
       "  <tbody>\n",
       "    <tr>\n",
       "      <th>0</th>\n",
       "      <td>29.82</td>\n",
       "      <td>21.94</td>\n",
       "      <td>1.65</td>\n",
       "      <td>8.38</td>\n",
       "      <td>1.185</td>\n",
       "    </tr>\n",
       "    <tr>\n",
       "      <th>1</th>\n",
       "      <td>30.83</td>\n",
       "      <td>22.67</td>\n",
       "      <td>2.67</td>\n",
       "      <td>7.92</td>\n",
       "      <td>1.301</td>\n",
       "    </tr>\n",
       "    <tr>\n",
       "      <th>2</th>\n",
       "      <td>27.74</td>\n",
       "      <td>21.37</td>\n",
       "      <td>2.30</td>\n",
       "      <td>7.54</td>\n",
       "      <td>1.356</td>\n",
       "    </tr>\n",
       "    <tr>\n",
       "      <th>3</th>\n",
       "      <td>26.40</td>\n",
       "      <td>21.88</td>\n",
       "      <td>1.78</td>\n",
       "      <td>7.54</td>\n",
       "      <td>1.288</td>\n",
       "    </tr>\n",
       "    <tr>\n",
       "      <th>4</th>\n",
       "      <td>23.09</td>\n",
       "      <td>21.96</td>\n",
       "      <td>1.91</td>\n",
       "      <td>7.73</td>\n",
       "      <td>1.239</td>\n",
       "    </tr>\n",
       "    <tr>\n",
       "      <th>...</th>\n",
       "      <td>...</td>\n",
       "      <td>...</td>\n",
       "      <td>...</td>\n",
       "      <td>...</td>\n",
       "      <td>...</td>\n",
       "    </tr>\n",
       "    <tr>\n",
       "      <th>199</th>\n",
       "      <td>89.16</td>\n",
       "      <td>25.57</td>\n",
       "      <td>5.49</td>\n",
       "      <td>10.60</td>\n",
       "      <td>1.528</td>\n",
       "    </tr>\n",
       "    <tr>\n",
       "      <th>200</th>\n",
       "      <td>85.96</td>\n",
       "      <td>26.11</td>\n",
       "      <td>5.14</td>\n",
       "      <td>10.70</td>\n",
       "      <td>1.451</td>\n",
       "    </tr>\n",
       "    <tr>\n",
       "      <th>201</th>\n",
       "      <td>86.97</td>\n",
       "      <td>26.41</td>\n",
       "      <td>5.20</td>\n",
       "      <td>10.84</td>\n",
       "      <td>1.312</td>\n",
       "    </tr>\n",
       "    <tr>\n",
       "      <th>202</th>\n",
       "      <td>89.86</td>\n",
       "      <td>25.44</td>\n",
       "      <td>4.51</td>\n",
       "      <td>10.79</td>\n",
       "      <td>1.460</td>\n",
       "    </tr>\n",
       "    <tr>\n",
       "      <th>203</th>\n",
       "      <td>87.32</td>\n",
       "      <td>25.79</td>\n",
       "      <td>4.30</td>\n",
       "      <td>10.68</td>\n",
       "      <td>1.391</td>\n",
       "    </tr>\n",
       "  </tbody>\n",
       "</table>\n",
       "<p>204 rows × 5 columns</p>\n",
       "</div>"
      ],
      "text/plain": [
       "     rhumidity  temperature  windspeed  solarirradiance  pvoutput\n",
       "0        29.82        21.94       1.65             8.38     1.185\n",
       "1        30.83        22.67       2.67             7.92     1.301\n",
       "2        27.74        21.37       2.30             7.54     1.356\n",
       "3        26.40        21.88       1.78             7.54     1.288\n",
       "4        23.09        21.96       1.91             7.73     1.239\n",
       "..         ...          ...        ...              ...       ...\n",
       "199      89.16        25.57       5.49            10.60     1.528\n",
       "200      85.96        26.11       5.14            10.70     1.451\n",
       "201      86.97        26.41       5.20            10.84     1.312\n",
       "202      89.86        25.44       4.51            10.79     1.460\n",
       "203      87.32        25.79       4.30            10.68     1.391\n",
       "\n",
       "[204 rows x 5 columns]"
      ]
     },
     "execution_count": 15,
     "metadata": {},
     "output_type": "execute_result"
    }
   ],
   "source": [
    "dataset = datasets.fetch_openml(name='SolarPower', as_frame=True)\n",
    "tabla = dataset.frame\n",
    "tabla"
   ]
  },
  {
   "cell_type": "markdown",
   "metadata": {},
   "source": [
    "Empecemos viendo como lo podríamos hacer en bajo nivel, si tenemos los datos en arrays de Numpy, podemos usar sus funciones para ver la relación entre variables. Lo más básico es la calcular la [covarianza](https://es.wikipedia.org/wiki/Covarianza): "
   ]
  },
  {
   "cell_type": "code",
   "execution_count": 16,
   "metadata": {},
   "outputs": [
    {
     "data": {
      "text/plain": [
       "array([[693.53137768, -55.90797155],\n",
       "       [-55.90797155,  26.26752179]])"
      ]
     },
     "execution_count": 16,
     "metadata": {},
     "output_type": "execute_result"
    }
   ],
   "source": [
    "array_humedad = np.array(tabla['rhumidity'])\n",
    "array_temperatura = np.array(tabla['temperature'])\n",
    "np.cov(array_humedad, array_temperatura)"
   ]
  },
  {
   "cell_type": "markdown",
   "metadata": {},
   "source": [
    "El resultado nos indica en la posición `[0,0]` la varianza de la humedad y en la `[1,1]` la varizanza de la temperatura. En las posiciones `[0,1]` y `[1,0]` nos da el valor de la convarianza que estabamos buscando entre ambas variables. Devuelve una matriz porque podríamos pasarle arrays con varias características, en vez de una como en este ejemplo, y nos calcularía la covarianza entre todas ellas. La matriz de resultado es simétrica porque la covarianza es conmutativa.\n",
    "\n",
    "El valor -55.9 nos indica que la posible relación lineal entre temperatura y humedad (en estos datos) es inversa (cuanto mayor sea una, menor será la otra). \n",
    "\n",
    "Sin embargo, la magnitud -55.9 por si sola no nos aporta una indicación de la intensidad de la relación porque depende de lo que varien cada una. Hay que observarla junto con las varianzas. Por ello, lo más habitual es medir la [correlación lineal](https://es.wikipedia.org/wiki/Correlaci%C3%B3n) entre características. Si tenemos dos arrays de Numpy podemos usar la función `np.coorcoef`:"
   ]
  },
  {
   "cell_type": "code",
   "execution_count": 17,
   "metadata": {},
   "outputs": [
    {
     "data": {
      "text/plain": [
       "array([[ 1.        , -0.41422006],\n",
       "       [-0.41422006,  1.        ]])"
      ]
     },
     "execution_count": 17,
     "metadata": {},
     "output_type": "execute_result"
    }
   ],
   "source": [
    "np.corrcoef(array_humedad, array_temperatura)"
   ]
  },
  {
   "cell_type": "markdown",
   "metadata": {},
   "source": [
    "En el resultado podemos ver la relación lineal inversa (a mayor humedad, menor temperatura) pero, esta vez, como los valores sabemos que están en el intervalo [-1, 1], sabemos que la relación es bastante fuerte.\n",
    "\n",
    "Podemos intentar ver como de significativa es esta relación. ¿Cuál es la probabilidad de que estos valores hayan salido así aleatoriamente de dos variables que realmente son independientes (no tienen relación ninguna)?"
   ]
  },
  {
   "cell_type": "code",
   "execution_count": 18,
   "metadata": {},
   "outputs": [
    {
     "data": {
      "text/plain": [
       "(-0.414220060261395, 7.330929500386973e-10)"
      ]
     },
     "execution_count": 18,
     "metadata": {},
     "output_type": "execute_result"
    }
   ],
   "source": [
    "from scipy.stats.stats import pearsonr\n",
    "pearsonr(array_humedad, array_temperatura)"
   ]
  },
  {
   "cell_type": "markdown",
   "metadata": {},
   "source": [
    "El p-value es MUY pequeño. Esto indica que la probabilidad de que esa relación lineal no exista es muy baja. Podemos descartar que sean independientes y confirmar que hay alguna relación lineal que influencia los cambios de valores entre ambas (puede haber otros factores que también afecten a estas características)."
   ]
  },
  {
   "cell_type": "markdown",
   "metadata": {},
   "source": [
    "Si estamos trabajando con Pandas, podemos calcular las correlaciones de forma similar, con la ventaja de que los resultados son más fáciles de leer al llevar los nombres de las características."
   ]
  },
  {
   "cell_type": "code",
   "execution_count": 19,
   "metadata": {},
   "outputs": [
    {
     "data": {
      "text/html": [
       "<div>\n",
       "<style scoped>\n",
       "    .dataframe tbody tr th:only-of-type {\n",
       "        vertical-align: middle;\n",
       "    }\n",
       "\n",
       "    .dataframe tbody tr th {\n",
       "        vertical-align: top;\n",
       "    }\n",
       "\n",
       "    .dataframe thead th {\n",
       "        text-align: right;\n",
       "    }\n",
       "</style>\n",
       "<table border=\"1\" class=\"dataframe\">\n",
       "  <thead>\n",
       "    <tr style=\"text-align: right;\">\n",
       "      <th></th>\n",
       "      <th>rhumidity</th>\n",
       "      <th>temperature</th>\n",
       "      <th>windspeed</th>\n",
       "      <th>solarirradiance</th>\n",
       "      <th>pvoutput</th>\n",
       "    </tr>\n",
       "  </thead>\n",
       "  <tbody>\n",
       "    <tr>\n",
       "      <th>rhumidity</th>\n",
       "      <td>1.000000</td>\n",
       "      <td>-0.414220</td>\n",
       "      <td>0.355240</td>\n",
       "      <td>0.560150</td>\n",
       "      <td>0.099394</td>\n",
       "    </tr>\n",
       "    <tr>\n",
       "      <th>temperature</th>\n",
       "      <td>-0.414220</td>\n",
       "      <td>1.000000</td>\n",
       "      <td>0.106980</td>\n",
       "      <td>0.478715</td>\n",
       "      <td>-0.109598</td>\n",
       "    </tr>\n",
       "    <tr>\n",
       "      <th>windspeed</th>\n",
       "      <td>0.355240</td>\n",
       "      <td>0.106980</td>\n",
       "      <td>1.000000</td>\n",
       "      <td>0.370385</td>\n",
       "      <td>0.123514</td>\n",
       "    </tr>\n",
       "    <tr>\n",
       "      <th>solarirradiance</th>\n",
       "      <td>0.560150</td>\n",
       "      <td>0.478715</td>\n",
       "      <td>0.370385</td>\n",
       "      <td>1.000000</td>\n",
       "      <td>-0.027745</td>\n",
       "    </tr>\n",
       "    <tr>\n",
       "      <th>pvoutput</th>\n",
       "      <td>0.099394</td>\n",
       "      <td>-0.109598</td>\n",
       "      <td>0.123514</td>\n",
       "      <td>-0.027745</td>\n",
       "      <td>1.000000</td>\n",
       "    </tr>\n",
       "  </tbody>\n",
       "</table>\n",
       "</div>"
      ],
      "text/plain": [
       "                 rhumidity  temperature  windspeed  solarirradiance  pvoutput\n",
       "rhumidity         1.000000    -0.414220   0.355240         0.560150  0.099394\n",
       "temperature      -0.414220     1.000000   0.106980         0.478715 -0.109598\n",
       "windspeed         0.355240     0.106980   1.000000         0.370385  0.123514\n",
       "solarirradiance   0.560150     0.478715   0.370385         1.000000 -0.027745\n",
       "pvoutput          0.099394    -0.109598   0.123514        -0.027745  1.000000"
      ]
     },
     "execution_count": 19,
     "metadata": {},
     "output_type": "execute_result"
    }
   ],
   "source": [
    "tabla.corr()"
   ]
  },
  {
   "cell_type": "markdown",
   "metadata": {},
   "source": [
    "## Relaciones entre variables categóricas\n",
    "\n",
    "Una medida que puede ser muy útil en el contexto de variables categóricas es la medida de la [información mútua](https://en.wikipedia.org/wiki/Mutual_information) basada en la [teoría de la información](https://en.wikipedia.org/wiki/Information_theory). Vamos a utilizar otro conjunto de datos como ejemplo:"
   ]
  },
  {
   "cell_type": "code",
   "execution_count": 20,
   "metadata": {},
   "outputs": [
    {
     "data": {
      "text/html": [
       "<div>\n",
       "<style scoped>\n",
       "    .dataframe tbody tr th:only-of-type {\n",
       "        vertical-align: middle;\n",
       "    }\n",
       "\n",
       "    .dataframe tbody tr th {\n",
       "        vertical-align: top;\n",
       "    }\n",
       "\n",
       "    .dataframe thead th {\n",
       "        text-align: right;\n",
       "    }\n",
       "</style>\n",
       "<table border=\"1\" class=\"dataframe\">\n",
       "  <thead>\n",
       "    <tr style=\"text-align: right;\">\n",
       "      <th></th>\n",
       "      <th>V1</th>\n",
       "      <th>V2</th>\n",
       "      <th>V3</th>\n",
       "      <th>V4</th>\n",
       "      <th>V5</th>\n",
       "      <th>V6</th>\n",
       "      <th>Class</th>\n",
       "    </tr>\n",
       "  </thead>\n",
       "  <tbody>\n",
       "    <tr>\n",
       "      <th>0</th>\n",
       "      <td>3</td>\n",
       "      <td>3</td>\n",
       "      <td>1</td>\n",
       "      <td>1</td>\n",
       "      <td>1</td>\n",
       "      <td>3</td>\n",
       "      <td>2</td>\n",
       "    </tr>\n",
       "    <tr>\n",
       "      <th>1</th>\n",
       "      <td>2</td>\n",
       "      <td>2</td>\n",
       "      <td>1</td>\n",
       "      <td>1</td>\n",
       "      <td>1</td>\n",
       "      <td>2</td>\n",
       "      <td>2</td>\n",
       "    </tr>\n",
       "    <tr>\n",
       "      <th>2</th>\n",
       "      <td>1</td>\n",
       "      <td>1</td>\n",
       "      <td>1</td>\n",
       "      <td>1</td>\n",
       "      <td>1</td>\n",
       "      <td>1</td>\n",
       "      <td>2</td>\n",
       "    </tr>\n",
       "    <tr>\n",
       "      <th>3</th>\n",
       "      <td>3</td>\n",
       "      <td>3</td>\n",
       "      <td>3</td>\n",
       "      <td>3</td>\n",
       "      <td>3</td>\n",
       "      <td>3</td>\n",
       "      <td>2</td>\n",
       "    </tr>\n",
       "    <tr>\n",
       "      <th>4</th>\n",
       "      <td>2</td>\n",
       "      <td>2</td>\n",
       "      <td>3</td>\n",
       "      <td>3</td>\n",
       "      <td>3</td>\n",
       "      <td>2</td>\n",
       "      <td>2</td>\n",
       "    </tr>\n",
       "    <tr>\n",
       "      <th>...</th>\n",
       "      <td>...</td>\n",
       "      <td>...</td>\n",
       "      <td>...</td>\n",
       "      <td>...</td>\n",
       "      <td>...</td>\n",
       "      <td>...</td>\n",
       "      <td>...</td>\n",
       "    </tr>\n",
       "    <tr>\n",
       "      <th>245</th>\n",
       "      <td>2</td>\n",
       "      <td>2</td>\n",
       "      <td>1</td>\n",
       "      <td>2</td>\n",
       "      <td>2</td>\n",
       "      <td>2</td>\n",
       "      <td>1</td>\n",
       "    </tr>\n",
       "    <tr>\n",
       "      <th>246</th>\n",
       "      <td>3</td>\n",
       "      <td>2</td>\n",
       "      <td>2</td>\n",
       "      <td>2</td>\n",
       "      <td>2</td>\n",
       "      <td>2</td>\n",
       "      <td>1</td>\n",
       "    </tr>\n",
       "    <tr>\n",
       "      <th>247</th>\n",
       "      <td>1</td>\n",
       "      <td>2</td>\n",
       "      <td>2</td>\n",
       "      <td>2</td>\n",
       "      <td>2</td>\n",
       "      <td>2</td>\n",
       "      <td>1</td>\n",
       "    </tr>\n",
       "    <tr>\n",
       "      <th>248</th>\n",
       "      <td>2</td>\n",
       "      <td>2</td>\n",
       "      <td>2</td>\n",
       "      <td>2</td>\n",
       "      <td>2</td>\n",
       "      <td>2</td>\n",
       "      <td>1</td>\n",
       "    </tr>\n",
       "    <tr>\n",
       "      <th>249</th>\n",
       "      <td>3</td>\n",
       "      <td>2</td>\n",
       "      <td>2</td>\n",
       "      <td>2</td>\n",
       "      <td>1</td>\n",
       "      <td>1</td>\n",
       "      <td>1</td>\n",
       "    </tr>\n",
       "  </tbody>\n",
       "</table>\n",
       "<p>250 rows × 7 columns</p>\n",
       "</div>"
      ],
      "text/plain": [
       "    V1 V2 V3 V4 V5 V6 Class\n",
       "0    3  3  1  1  1  3     2\n",
       "1    2  2  1  1  1  2     2\n",
       "2    1  1  1  1  1  1     2\n",
       "3    3  3  3  3  3  3     2\n",
       "4    2  2  3  3  3  2     2\n",
       "..  .. .. .. .. .. ..   ...\n",
       "245  2  2  1  2  2  2     1\n",
       "246  3  2  2  2  2  2     1\n",
       "247  1  2  2  2  2  2     1\n",
       "248  2  2  2  2  2  2     1\n",
       "249  3  2  2  2  1  1     1\n",
       "\n",
       "[250 rows x 7 columns]"
      ]
     },
     "execution_count": 20,
     "metadata": {},
     "output_type": "execute_result"
    }
   ],
   "source": [
    "dataset = datasets.fetch_openml(name='qualitative-bankruptcy', as_frame=True)\n",
    "tabla = dataset.frame\n",
    "tabla"
   ]
  },
  {
   "cell_type": "markdown",
   "metadata": {},
   "source": [
    "Para calcular la información que aporta una variable respecto a otra podemos usar la función `mutual_info_score` del paquete sklearn. Así podemos ver la información que aporta 'V1' sobre 'V2' (y viceversa porque es simétrica):"
   ]
  },
  {
   "cell_type": "code",
   "execution_count": 21,
   "metadata": {},
   "outputs": [
    {
     "data": {
      "text/plain": [
       "0.09677929526063088"
      ]
     },
     "execution_count": 21,
     "metadata": {},
     "output_type": "execute_result"
    }
   ],
   "source": [
    "from sklearn.metrics import mutual_info_score\n",
    "mutual_info_score(tabla['V1'], tabla['V2'])"
   ]
  },
  {
   "cell_type": "markdown",
   "metadata": {},
   "source": [
    "Probablemente, nos interesará más ver la información que aporta sobre la clase:"
   ]
  },
  {
   "cell_type": "code",
   "execution_count": 22,
   "metadata": {},
   "outputs": [
    {
     "data": {
      "text/plain": [
       "0.03183844900524929"
      ]
     },
     "execution_count": 22,
     "metadata": {},
     "output_type": "execute_result"
    }
   ],
   "source": [
    "mutual_info_score(tabla['V1'], tabla['Class'])"
   ]
  },
  {
   "cell_type": "markdown",
   "metadata": {},
   "source": [
    "Estos valores representan la cantidad de información medida en nats. Un nat equivale a 1.4427 bits. Aunque nos puede resultar más intuitivo el bit, la razón por la que el resultado está en nat es porque las funciones usan el logaritmo neperiano. No tiene mayor importancia ya que la conversión es muy sencilla."
   ]
  },
  {
   "cell_type": "code",
   "execution_count": 23,
   "metadata": {},
   "outputs": [
    {
     "data": {
      "text/plain": [
       "1.4426950408889634"
      ]
     },
     "execution_count": 23,
     "metadata": {},
     "output_type": "execute_result"
    }
   ],
   "source": [
    "import math\n",
    "bits_per_nat = math.log(math.e,2)\n",
    "bits_per_nat"
   ]
  },
  {
   "cell_type": "markdown",
   "metadata": {},
   "source": [
    "Así que en bits serían:"
   ]
  },
  {
   "cell_type": "code",
   "execution_count": 24,
   "metadata": {},
   "outputs": [
    {
     "name": "stdout",
     "output_type": "stream",
     "text": [
      "0.13962300933324093 bits\n",
      "0.0459331724894693 bits\n"
     ]
    }
   ],
   "source": [
    "print( mutual_info_score(tabla['V1'], tabla['V2']) * bits_per_nat, 'bits' )\n",
    "print( mutual_info_score(tabla['V1'], tabla['Class']) * bits_per_nat, 'bits')"
   ]
  },
  {
   "cell_type": "markdown",
   "metadata": {},
   "source": [
    "Por otra parte, también es relativo a la cantidad de información que es necesaria para identificar completamente la otra característica. Eso es equivalente a la cantidad de entropia de la característica."
   ]
  },
  {
   "cell_type": "code",
   "execution_count": 25,
   "metadata": {},
   "outputs": [
    {
     "name": "stdout",
     "output_type": "stream",
     "text": [
      "        V1 1.583\n",
      "        V2 1.521\n",
      "        V3 1.516\n",
      "        V4 1.579\n",
      "        V5 1.541\n",
      "        V6 1.528\n",
      "     Class 0.985\n"
     ]
    }
   ],
   "source": [
    "import scipy.stats\n",
    "for col in tabla:\n",
    "    print('{:>10} {:.3f}'.format(\n",
    "            col, \n",
    "            scipy.stats.entropy(tabla[col].value_counts() / len(tabla))*bits_per_nat))"
   ]
  },
  {
   "cell_type": "markdown",
   "metadata": {},
   "source": [
    "La clase tiene 2 valores y, por tanto, necesita casi un bit para representarse. No llega al bit entero porque la probabilidad de uno de los valores es más alta que la otra. Así, en promedio, para almacenar una gran cantidad de valores de esa clase en un formato comprimido necesitaríamos algo menos de 1 bit por valor. Las otras variables tienen 3 valores y como sus valores están bastante balanceados, se aproximan a 1.59bits = $log_2(3)$.\n",
    "\n",
    "Para poder ver todas las relaciones, como veíamos en la matriz de correlaciones, podemos programar nosotros la presentación y sacar también una tabla:"
   ]
  },
  {
   "cell_type": "code",
   "execution_count": 26,
   "metadata": {
    "scrolled": true
   },
   "outputs": [
    {
     "name": "stdout",
     "output_type": "stream",
     "text": [
      "              V1    V2    V3    V4    V5    V6 Class\n",
      "        V1 1.583 0.140 0.024 0.009 0.060 0.060 0.046 \n",
      "        V2 0.140 1.521 0.064 0.089 0.107 0.084 0.106 \n",
      "        V3 0.024 0.064 1.516 0.337 0.550 0.027 0.585 \n",
      "        V4 0.009 0.089 0.337 1.579 0.477 0.063 0.533 \n",
      "        V5 0.060 0.107 0.550 0.477 1.541 0.072 0.902 \n",
      "        V6 0.060 0.084 0.027 0.063 0.072 1.528 0.059 \n",
      "     Class 0.046 0.106 0.585 0.533 0.902 0.059 0.985 \n"
     ]
    }
   ],
   "source": [
    "print(' '*10, end='')\n",
    "for col in tabla:\n",
    "    print('{:>6}'.format(col), end='')\n",
    "print()\n",
    "for col in tabla:\n",
    "    print('{:>10}'.format(col), end=' ')\n",
    "    for col2 in tabla:\n",
    "        print('{:.3f}'.format(mutual_info_score(tabla[col], tabla[col2]) * bits_per_nat), end=' ')\n",
    "    print()"
   ]
  },
  {
   "cell_type": "markdown",
   "metadata": {},
   "source": [
    "**Ejercicio**: Coge un par de conjuntos de datos a tu elección (datos propios, extraidos, o de alguno de los repositorios) y calcula las correlaciones entre variables continuas y la información mútua entre variables categóricas."
   ]
  }
 ],
 "metadata": {
  "kernelspec": {
   "display_name": "Python 3",
   "language": "python",
   "name": "python3"
  },
  "language_info": {
   "codemirror_mode": {
    "name": "ipython",
    "version": 3
   },
   "file_extension": ".py",
   "mimetype": "text/x-python",
   "name": "python",
   "nbconvert_exporter": "python",
   "pygments_lexer": "ipython3",
   "version": "3.9.5"
  }
 },
 "nbformat": 4,
 "nbformat_minor": 2
}
